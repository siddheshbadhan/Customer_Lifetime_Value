{
 "cells": [
  {
   "cell_type": "code",
   "execution_count": 1,
   "id": "9947ff98",
   "metadata": {},
   "outputs": [],
   "source": [
    "import pandas as pd\n",
    "import numpy as np\n",
    "import matplotlib.pyplot as plt"
   ]
  },
  {
   "cell_type": "code",
   "execution_count": 2,
   "id": "823d2235",
   "metadata": {},
   "outputs": [],
   "source": [
    "df = pd.read_csv('HW1 clv_transactions.csv')"
   ]
  },
  {
   "cell_type": "code",
   "execution_count": 3,
   "id": "814e00ac",
   "metadata": {},
   "outputs": [
    {
     "data": {
      "text/html": [
       "<div>\n",
       "<style scoped>\n",
       "    .dataframe tbody tr th:only-of-type {\n",
       "        vertical-align: middle;\n",
       "    }\n",
       "\n",
       "    .dataframe tbody tr th {\n",
       "        vertical-align: top;\n",
       "    }\n",
       "\n",
       "    .dataframe thead th {\n",
       "        text-align: right;\n",
       "    }\n",
       "</style>\n",
       "<table border=\"1\" class=\"dataframe\">\n",
       "  <thead>\n",
       "    <tr style=\"text-align: right;\">\n",
       "      <th></th>\n",
       "      <th>TransactionID</th>\n",
       "      <th>TransactionDate</th>\n",
       "      <th>CustomerID</th>\n",
       "      <th>Amount</th>\n",
       "    </tr>\n",
       "  </thead>\n",
       "  <tbody>\n",
       "    <tr>\n",
       "      <th>0</th>\n",
       "      <td>False</td>\n",
       "      <td>False</td>\n",
       "      <td>False</td>\n",
       "      <td>False</td>\n",
       "    </tr>\n",
       "    <tr>\n",
       "      <th>1</th>\n",
       "      <td>False</td>\n",
       "      <td>False</td>\n",
       "      <td>False</td>\n",
       "      <td>False</td>\n",
       "    </tr>\n",
       "    <tr>\n",
       "      <th>2</th>\n",
       "      <td>False</td>\n",
       "      <td>False</td>\n",
       "      <td>False</td>\n",
       "      <td>False</td>\n",
       "    </tr>\n",
       "    <tr>\n",
       "      <th>3</th>\n",
       "      <td>False</td>\n",
       "      <td>False</td>\n",
       "      <td>False</td>\n",
       "      <td>False</td>\n",
       "    </tr>\n",
       "    <tr>\n",
       "      <th>4</th>\n",
       "      <td>False</td>\n",
       "      <td>False</td>\n",
       "      <td>False</td>\n",
       "      <td>False</td>\n",
       "    </tr>\n",
       "  </tbody>\n",
       "</table>\n",
       "</div>"
      ],
      "text/plain": [
       "   TransactionID  TransactionDate  CustomerID  Amount\n",
       "0          False            False       False   False\n",
       "1          False            False       False   False\n",
       "2          False            False       False   False\n",
       "3          False            False       False   False\n",
       "4          False            False       False   False"
      ]
     },
     "execution_count": 3,
     "metadata": {},
     "output_type": "execute_result"
    }
   ],
   "source": [
    "# creating bool series True for NaN values\n",
    "df.isna().head()"
   ]
  },
  {
   "cell_type": "code",
   "execution_count": 4,
   "id": "06d57473",
   "metadata": {
    "scrolled": true
   },
   "outputs": [
    {
     "data": {
      "text/plain": [
       "TransactionID      0\n",
       "TransactionDate    0\n",
       "CustomerID         0\n",
       "Amount             0\n",
       "dtype: int64"
      ]
     },
     "execution_count": 4,
     "metadata": {},
     "output_type": "execute_result"
    }
   ],
   "source": [
    "df.isna().sum()"
   ]
  },
  {
   "cell_type": "markdown",
   "id": "c7ae858d",
   "metadata": {},
   "source": [
    "Since the sum of the null values is zero, it can be interpreted that there are no missing values in the dataset."
   ]
  },
  {
   "cell_type": "code",
   "execution_count": 5,
   "id": "f828f0d4",
   "metadata": {},
   "outputs": [],
   "source": [
    "max_date = df[\"TransactionDate\"].max()"
   ]
  },
  {
   "cell_type": "code",
   "execution_count": 6,
   "id": "388ac319",
   "metadata": {},
   "outputs": [],
   "source": [
    "min_date = df[\"TransactionDate\"].min()"
   ]
  },
  {
   "cell_type": "code",
   "execution_count": 7,
   "id": "2748dd0d",
   "metadata": {},
   "outputs": [
    {
     "name": "stdout",
     "output_type": "stream",
     "text": [
      "The range of dates is 1/1/2011 - 9/9/2015\n"
     ]
    }
   ],
   "source": [
    "print(\"The range of dates is \" + min_date + \" - \"  + max_date)"
   ]
  },
  {
   "cell_type": "code",
   "execution_count": 8,
   "id": "60cc4c43",
   "metadata": {},
   "outputs": [
    {
     "name": "stdout",
     "output_type": "stream",
     "text": [
      "Number of unique customers in the dataset are 1000\n"
     ]
    }
   ],
   "source": [
    "n = len(pd.unique(df[\"CustomerID\"]))\n",
    "print(\"Number of unique customers in the dataset are \" + str(n))"
   ]
  },
  {
   "cell_type": "code",
   "execution_count": 9,
   "id": "19cbdb93",
   "metadata": {},
   "outputs": [
    {
     "data": {
      "text/plain": [
       "count    4186.000000\n",
       "mean        9.028082\n",
       "std        38.723909\n",
       "min        -1.000000\n",
       "25%         3.310000\n",
       "50%         6.885000\n",
       "75%        11.690000\n",
       "max      2033.000000\n",
       "Name: Amount, dtype: float64"
      ]
     },
     "execution_count": 9,
     "metadata": {},
     "output_type": "execute_result"
    }
   ],
   "source": [
    "df[\"Amount\"].describe()"
   ]
  },
  {
   "cell_type": "code",
   "execution_count": 10,
   "id": "f4e0889b",
   "metadata": {},
   "outputs": [
    {
     "name": "stdout",
     "output_type": "stream",
     "text": [
      "Variance is: 1499.5411107517461\n"
     ]
    }
   ],
   "source": [
    "print(\"Variance is: \" + str(df[\"Amount\"].var()))"
   ]
  },
  {
   "cell_type": "code",
   "execution_count": 11,
   "id": "3af9f3d8",
   "metadata": {},
   "outputs": [
    {
     "name": "stdout",
     "output_type": "stream",
     "text": [
      "      TransactionID TransactionDate  CustomerID  Amount\n",
      "23               24       10/7/2011           7  1003.0\n",
      "211             212       5/14/2014          54  1027.0\n",
      "4177           4178       8/13/2012        1000  2033.0\n"
     ]
    }
   ],
   "source": [
    "# Calculate the z-score for each value in the Amount column\n",
    "z_scores = (df['Amount'] - df['Amount'].mean()) / df['Amount'].std()\n",
    "\n",
    "# Identify outliers as values with a z-score greater than 3\n",
    "outliers = df[np.abs(z_scores) > 3]\n",
    "print(outliers)"
   ]
  },
  {
   "cell_type": "code",
   "execution_count": 12,
   "id": "4e6adac7",
   "metadata": {},
   "outputs": [],
   "source": [
    "#Treating the outliers by removing them\n",
    "# Remove the outliers from the dataset\n",
    "df = df[np.abs(z_scores) <= 3]"
   ]
  },
  {
   "cell_type": "code",
   "execution_count": 13,
   "id": "3970f79f",
   "metadata": {},
   "outputs": [
    {
     "data": {
      "text/html": [
       "<div>\n",
       "<style scoped>\n",
       "    .dataframe tbody tr th:only-of-type {\n",
       "        vertical-align: middle;\n",
       "    }\n",
       "\n",
       "    .dataframe tbody tr th {\n",
       "        vertical-align: top;\n",
       "    }\n",
       "\n",
       "    .dataframe thead th {\n",
       "        text-align: right;\n",
       "    }\n",
       "</style>\n",
       "<table border=\"1\" class=\"dataframe\">\n",
       "  <thead>\n",
       "    <tr style=\"text-align: right;\">\n",
       "      <th></th>\n",
       "      <th>TransactionID</th>\n",
       "      <th>CustomerID</th>\n",
       "      <th>Amount</th>\n",
       "    </tr>\n",
       "  </thead>\n",
       "  <tbody>\n",
       "    <tr>\n",
       "      <th>count</th>\n",
       "      <td>4183.000000</td>\n",
       "      <td>4183.000000</td>\n",
       "      <td>4183.000000</td>\n",
       "    </tr>\n",
       "    <tr>\n",
       "      <th>mean</th>\n",
       "      <td>2093.946211</td>\n",
       "      <td>516.282333</td>\n",
       "      <td>8.063244</td>\n",
       "    </tr>\n",
       "    <tr>\n",
       "      <th>std</th>\n",
       "      <td>1207.767818</td>\n",
       "      <td>291.279753</td>\n",
       "      <td>6.008447</td>\n",
       "    </tr>\n",
       "    <tr>\n",
       "      <th>min</th>\n",
       "      <td>1.000000</td>\n",
       "      <td>1.000000</td>\n",
       "      <td>-1.000000</td>\n",
       "    </tr>\n",
       "    <tr>\n",
       "      <th>25%</th>\n",
       "      <td>1048.500000</td>\n",
       "      <td>270.000000</td>\n",
       "      <td>3.310000</td>\n",
       "    </tr>\n",
       "    <tr>\n",
       "      <th>50%</th>\n",
       "      <td>2094.000000</td>\n",
       "      <td>522.000000</td>\n",
       "      <td>6.870000</td>\n",
       "    </tr>\n",
       "    <tr>\n",
       "      <th>75%</th>\n",
       "      <td>3139.500000</td>\n",
       "      <td>762.500000</td>\n",
       "      <td>11.675000</td>\n",
       "    </tr>\n",
       "    <tr>\n",
       "      <th>max</th>\n",
       "      <td>4186.000000</td>\n",
       "      <td>1000.000000</td>\n",
       "      <td>38.350000</td>\n",
       "    </tr>\n",
       "  </tbody>\n",
       "</table>\n",
       "</div>"
      ],
      "text/plain": [
       "       TransactionID   CustomerID       Amount\n",
       "count    4183.000000  4183.000000  4183.000000\n",
       "mean     2093.946211   516.282333     8.063244\n",
       "std      1207.767818   291.279753     6.008447\n",
       "min         1.000000     1.000000    -1.000000\n",
       "25%      1048.500000   270.000000     3.310000\n",
       "50%      2094.000000   522.000000     6.870000\n",
       "75%      3139.500000   762.500000    11.675000\n",
       "max      4186.000000  1000.000000    38.350000"
      ]
     },
     "execution_count": 13,
     "metadata": {},
     "output_type": "execute_result"
    }
   ],
   "source": [
    "#Checking if the outliers got removed\n",
    "df.describe()"
   ]
  },
  {
   "cell_type": "code",
   "execution_count": 14,
   "id": "b935863f",
   "metadata": {},
   "outputs": [
    {
     "data": {
      "text/plain": [
       "<AxesSubplot:xlabel='TransactionDate'>"
      ]
     },
     "execution_count": 14,
     "metadata": {},
     "output_type": "execute_result"
    },
    {
     "data": {
      "image/png": "[encoded data removed]",
      "text/plain": [
       "<Figure size 640x480 with 1 Axes>"
      ]
     },
     "metadata": {},
     "output_type": "display_data"
    }
   ],
   "source": [
    "df.plot(x = \"TransactionDate\", y = \"Amount\", kind = 'line')"
   ]
  },
  {
   "cell_type": "markdown",
   "id": "c6e0b2c6",
   "metadata": {},
   "source": [
    "It can be seen that the Transaction amounts in general do not increase over time. A relation does not exist between the transaction date and the transaction amount."
   ]
  },
  {
   "cell_type": "code",
   "execution_count": 15,
   "id": "d7465434",
   "metadata": {},
   "outputs": [],
   "source": [
    "df['TransactionDate'] = pd.to_datetime(df['TransactionDate'])\n",
    "min_dates = df.groupby('CustomerID')['TransactionDate'].min()\n",
    "\n",
    "# Extract the year from the minimum transaction date and store it in a new column 'OriginYear'\n",
    "df = df.merge(min_dates, on='CustomerID', suffixes=('', '_min'))\n",
    "df['OriginYear'] = df['TransactionDate_min'].dt.year\n",
    "\n",
    "# Drop the 'TransactionDate_min' column\n",
    "df.drop('TransactionDate_min', axis=1, inplace=True)\n",
    "\n",
    "# Group the customers by their origin year\n",
    "grouped_customers = df.groupby('OriginYear')"
   ]
  },
  {
   "cell_type": "code",
   "execution_count": 16,
   "id": "147a5be8",
   "metadata": {},
   "outputs": [
    {
     "data": {
      "text/html": [
       "<div>\n",
       "<style scoped>\n",
       "    .dataframe tbody tr th:only-of-type {\n",
       "        vertical-align: middle;\n",
       "    }\n",
       "\n",
       "    .dataframe tbody tr th {\n",
       "        vertical-align: top;\n",
       "    }\n",
       "\n",
       "    .dataframe thead th {\n",
       "        text-align: right;\n",
       "    }\n",
       "</style>\n",
       "<table border=\"1\" class=\"dataframe\">\n",
       "  <thead>\n",
       "    <tr style=\"text-align: right;\">\n",
       "      <th></th>\n",
       "      <th>TransactionID</th>\n",
       "      <th>TransactionDate</th>\n",
       "      <th>CustomerID</th>\n",
       "      <th>Amount</th>\n",
       "      <th>OriginYear</th>\n",
       "    </tr>\n",
       "  </thead>\n",
       "  <tbody>\n",
       "    <tr>\n",
       "      <th>0</th>\n",
       "      <td>1</td>\n",
       "      <td>2012-09-04</td>\n",
       "      <td>1</td>\n",
       "      <td>20.26</td>\n",
       "      <td>2012</td>\n",
       "    </tr>\n",
       "    <tr>\n",
       "      <th>1</th>\n",
       "      <td>2</td>\n",
       "      <td>2012-05-15</td>\n",
       "      <td>2</td>\n",
       "      <td>10.87</td>\n",
       "      <td>2012</td>\n",
       "    </tr>\n",
       "    <tr>\n",
       "      <th>2</th>\n",
       "      <td>3</td>\n",
       "      <td>2014-05-23</td>\n",
       "      <td>2</td>\n",
       "      <td>2.21</td>\n",
       "      <td>2012</td>\n",
       "    </tr>\n",
       "    <tr>\n",
       "      <th>3</th>\n",
       "      <td>4</td>\n",
       "      <td>2014-10-24</td>\n",
       "      <td>2</td>\n",
       "      <td>10.48</td>\n",
       "      <td>2012</td>\n",
       "    </tr>\n",
       "    <tr>\n",
       "      <th>4</th>\n",
       "      <td>5</td>\n",
       "      <td>2012-10-13</td>\n",
       "      <td>2</td>\n",
       "      <td>3.94</td>\n",
       "      <td>2012</td>\n",
       "    </tr>\n",
       "  </tbody>\n",
       "</table>\n",
       "</div>"
      ],
      "text/plain": [
       "   TransactionID TransactionDate  CustomerID  Amount  OriginYear\n",
       "0              1      2012-09-04           1   20.26        2012\n",
       "1              2      2012-05-15           2   10.87        2012\n",
       "2              3      2014-05-23           2    2.21        2012\n",
       "3              4      2014-10-24           2   10.48        2012\n",
       "4              5      2012-10-13           2    3.94        2012"
      ]
     },
     "execution_count": 16,
     "metadata": {},
     "output_type": "execute_result"
    }
   ],
   "source": [
    "df.head()"
   ]
  },
  {
   "cell_type": "code",
   "execution_count": 17,
   "id": "ac3d7ca5",
   "metadata": {},
   "outputs": [
    {
     "name": "stdout",
     "output_type": "stream",
     "text": [
      "                 12       24       36       48       60       72\n",
      "OriginYear                                                      \n",
      "2010        2259.67  3614.78  5274.81  6632.37  7930.69  8964.49\n",
      "2011        2238.46   3756.9  5464.99  6702.11  7861.24         \n",
      "2012        2181.35  3874.69  5226.86  6501.85                  \n",
      "2013        2179.85  3608.81  5226.75                           \n",
      "2014        1830.85  3262.05                                    \n",
      "2015        1912.17                                             \n"
     ]
    }
   ],
   "source": [
    "#Calculating cumulative transaction Amounts\n",
    "dd = pd.DataFrame()\n",
    "dd['12'] = df[df['TransactionDate'].dt.year - df['OriginYear'] < 1].groupby('OriginYear').sum()['Amount']\n",
    "dd['24'] = df[df['TransactionDate'].dt.year - df['OriginYear'] < 2].groupby('OriginYear').sum()['Amount']\n",
    "dd['36'] = df[df['TransactionDate'].dt.year - df['OriginYear'] < 3].groupby('OriginYear').sum()['Amount']\n",
    "dd['48'] = df[df['TransactionDate'].dt.year - df['OriginYear'] < 4].groupby('OriginYear').sum()['Amount']\n",
    "dd['60'] = df[df['TransactionDate'].dt.year - df['OriginYear'] < 5].groupby('OriginYear').sum()['Amount']\n",
    "dd['72'] = df[df['TransactionDate'].dt.year - df['OriginYear'] < 6].groupby('OriginYear').sum()['Amount']\n",
    "\n",
    "is_duplicate = dd.apply(pd.Series.duplicated, axis=1)\n",
    "new_display = dd.where(~is_duplicate, np.nan)\n",
    "pd.set_option('display.precision', 2)\n",
    "\n",
    "print(new_display.fillna(''))"
   ]
  },
  {
   "cell_type": "code",
   "execution_count": 18,
   "id": "bc269a40",
   "metadata": {},
   "outputs": [
    {
     "name": "stdout",
     "output_type": "stream",
     "text": [
      "             12     24     36     48     60     72\n",
      "OriginYear                                        \n",
      "2010        172  172.0  172.0  172.0  172.0  172.0\n",
      "2011        170  170.0  170.0  170.0  170.0       \n",
      "2012        163  163.0  163.0  163.0              \n",
      "2013        180  180.0  180.0                     \n",
      "2014        155  155.0                            \n",
      "2015        160                                   \n"
     ]
    }
   ],
   "source": [
    "cust = pd.DataFrame()\n",
    "\n",
    "#Keeping only first transaction from each customer id to count the no of customers\n",
    "cust = df.groupby('CustomerID').first().reset_index()\n",
    "#Assigning the value to all age groups as the count is age independent \n",
    "cust = cust.groupby('OriginYear').count()\n",
    "cust['12'] =  cust['CustomerID']\n",
    "cust['24'] =  cust['CustomerID']\n",
    "cust['36'] =  cust['CustomerID']\n",
    "cust['48'] =  cust['CustomerID']\n",
    "cust['60'] =  cust['CustomerID']\n",
    "cust['72'] =  cust['CustomerID']\n",
    "\n",
    "cust = cust.drop(['TransactionID', 'CustomerID', 'Amount', 'TransactionDate'], axis = 1)\n",
    "is_dup = cust.apply(pd.Series.duplicated, axis=1)\n",
    "new_disp = cust.where(~is_duplicate, np.nan)\n",
    "\n",
    "print(new_disp.fillna(''))\n"
   ]
  },
  {
   "cell_type": "code",
   "execution_count": 19,
   "id": "7abd231e",
   "metadata": {
    "scrolled": true
   },
   "outputs": [
    {
     "name": "stdout",
     "output_type": "stream",
     "text": [
      "               12     24     36     48     60     72\n",
      "OriginYear                                          \n",
      "2010        13.14  21.02  30.67  38.56  46.11  52.12\n",
      "2011        13.17   22.1  32.15  39.42  46.24       \n",
      "2012        13.38  23.77  32.07  39.89              \n",
      "2013        12.11  20.05  29.04                     \n",
      "2014        11.81  21.05                            \n",
      "2015        11.95                                   \n"
     ]
    }
   ],
   "source": [
    "#Calculate historic clv by using the above two data frames\n",
    "historic_clv = new_display/new_disp\n",
    "print(historic_clv.fillna(''))"
   ]
  },
  {
   "cell_type": "code",
   "execution_count": 20,
   "id": "016f58c4",
   "metadata": {},
   "outputs": [
    {
     "data": {
      "image/png": "[encoded data removed]",
      "text/plain": [
       "<Figure size 640x480 with 1 Axes>"
      ]
     },
     "metadata": {},
     "output_type": "display_data"
    }
   ],
   "source": [
    "#Plotting the Historic CLV data for each cohort \n",
    "plot_clv = historic_clv.transpose()\n",
    "fig,ax = plt.subplots()\n",
    "plot_clv.plot(style='.-', kind='line', ax = ax)\n",
    "plt.xlabel('Age')\n",
    "plt.ylabel('HistoricCLV')\n",
    "plt.show()"
   ]
  },
  {
   "cell_type": "code",
   "execution_count": 21,
   "id": "62e3dcbc",
   "metadata": {},
   "outputs": [
    {
     "name": "stdout",
     "output_type": "stream",
     "text": [
      "     HistoricCLV\n",
      "Age             \n",
      "12         12.60\n",
      "24         20.03\n",
      "36         26.37\n",
      "48         30.24\n",
      "60         32.69\n",
      "72         33.73\n"
     ]
    }
   ],
   "source": [
    "#Calculate the weighted avg CLV\n",
    "cumulative_clv = dd.sum()/cust.sum()\n",
    "df_cumulative_clv = pd.DataFrame({'Age':cumulative_clv.index, 'HistoricCLV':cumulative_clv.values})\n",
    "df_cumulative_clv = df_cumulative_clv.set_index('Age')\n",
    "print(df_cumulative_clv)"
   ]
  },
  {
   "cell_type": "code",
   "execution_count": 22,
   "id": "a8304ad8",
   "metadata": {},
   "outputs": [
    {
     "name": "stdout",
     "output_type": "stream",
     "text": [
      "OriginYear\n",
      "2010    8964.49\n",
      "2011    7861.24\n",
      "2012    6501.85\n",
      "2013    5226.75\n",
      "2014    3262.05\n",
      "2015    1912.17\n",
      "dtype: float64\n"
     ]
    }
   ],
   "source": [
    "#Find out customer spending per year\n",
    "maxAmt = dd.max(axis=1)\n",
    "print(maxAmt)"
   ]
  },
  {
   "cell_type": "code",
   "execution_count": 23,
   "id": "5c486740",
   "metadata": {},
   "outputs": [
    {
     "name": "stdout",
     "output_type": "stream",
     "text": [
      "Customers acquired in 2011 have spent: 7861.24\n"
     ]
    }
   ],
   "source": [
    "print(\"Customers acquired in 2011 have spent: \" + str(maxAmt[2011]))"
   ]
  },
  {
   "cell_type": "code",
   "execution_count": 24,
   "id": "40004e39",
   "metadata": {},
   "outputs": [
    {
     "data": {
      "image/png": "[encoded data removed]",
      "text/plain": [
       "<Figure size 640x480 with 1 Axes>"
      ]
     },
     "metadata": {},
     "output_type": "display_data"
    }
   ],
   "source": [
    "#Plotting the weighted avg CLV\n",
    "cumulative_clv.plot(style='.-', kind='line')\n",
    "plt.xlabel('Age')\n",
    "plt.ylabel('HistoricCLV')\n",
    "plt.show()"
   ]
  },
  {
   "cell_type": "markdown",
   "id": "0ffd9bcf",
   "metadata": {},
   "source": [
    "It can be seen from the graph that each group does not exhibit similar pattern of spending as the age increases, the upward trend of HistoricCLV can be seen to get flattened. The slope of the curve is decreasing which signifies that not all age groups have similar pattern of spending."
   ]
  }
 ],
 "metadata": {
  "kernelspec": {
   "display_name": "Python 3 (ipykernel)",
   "language": "python",
   "name": "python3"
  },
  "language_info": {
   "codemirror_mode": {
    "name": "ipython",
    "version": 3
   },
   "file_extension": ".py",
   "mimetype": "text/x-python",
   "name": "python",
   "nbconvert_exporter": "python",
   "pygments_lexer": "ipython3",
   "version": "3.9.13"
  }
 },
 "nbformat": 4,
 "nbformat_minor": 5
}
